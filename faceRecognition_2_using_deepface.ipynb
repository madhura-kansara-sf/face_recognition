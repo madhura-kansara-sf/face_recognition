{
  "nbformat": 4,
  "nbformat_minor": 0,
  "metadata": {
    "colab": {
      "provenance": [],
      "authorship_tag": "ABX9TyMMwSlDnwHbySvVj7bJWP/2",
      "include_colab_link": true
    },
    "kernelspec": {
      "name": "python3",
      "display_name": "Python 3"
    },
    "language_info": {
      "name": "python"
    }
  },
  "cells": [
    {
      "cell_type": "markdown",
      "metadata": {
        "id": "view-in-github",
        "colab_type": "text"
      },
      "source": [
        "<a href=\"https://colab.research.google.com/github/madhura-kansara-sf/face_recognition/blob/main/faceRecognition_2_using_deepface.ipynb\" target=\"_parent\"><img src=\"https://colab.research.google.com/assets/colab-badge.svg\" alt=\"Open In Colab\"/></a>"
      ]
    },
    {
      "cell_type": "code",
      "execution_count": null,
      "metadata": {
        "colab": {
          "base_uri": "https://localhost:8080/"
        },
        "id": "dC4mj0Ey9EXh",
        "outputId": "de7705f0-93be-4159-9af2-520e9cb6e701"
      },
      "outputs": [
        {
          "output_type": "stream",
          "name": "stdout",
          "text": [
            "Collecting deepface\n",
            "  Downloading deepface-0.0.83-py3-none-any.whl (82 kB)\n",
            "\u001b[?25l     \u001b[90m━━━━━━━━━━━━━━━━━━━━━━━━━━━━━━━━━━━━━━━━\u001b[0m \u001b[32m0.0/82.1 kB\u001b[0m \u001b[31m?\u001b[0m eta \u001b[36m-:--:--\u001b[0m\r\u001b[2K     \u001b[90m━━━━━━━━━━━━━━━━━━━━━━━━━━━━━━━━━━━━━━━━\u001b[0m \u001b[32m82.1/82.1 kB\u001b[0m \u001b[31m3.0 MB/s\u001b[0m eta \u001b[36m0:00:00\u001b[0m\n",
            "\u001b[?25hRequirement already satisfied: numpy>=1.14.0 in /usr/local/lib/python3.10/dist-packages (from deepface) (1.23.5)\n",
            "Requirement already satisfied: pandas>=0.23.4 in /usr/local/lib/python3.10/dist-packages (from deepface) (1.5.3)\n",
            "Requirement already satisfied: gdown>=3.10.1 in /usr/local/lib/python3.10/dist-packages (from deepface) (4.7.3)\n",
            "Requirement already satisfied: tqdm>=4.30.0 in /usr/local/lib/python3.10/dist-packages (from deepface) (4.66.1)\n",
            "Requirement already satisfied: Pillow>=5.2.0 in /usr/local/lib/python3.10/dist-packages (from deepface) (9.4.0)\n",
            "Requirement already satisfied: opencv-python>=4.5.5.64 in /usr/local/lib/python3.10/dist-packages (from deepface) (4.8.0.76)\n",
            "Requirement already satisfied: tensorflow>=1.9.0 in /usr/local/lib/python3.10/dist-packages (from deepface) (2.15.0)\n",
            "Requirement already satisfied: keras>=2.2.0 in /usr/local/lib/python3.10/dist-packages (from deepface) (2.15.0)\n",
            "Requirement already satisfied: Flask>=1.1.2 in /usr/local/lib/python3.10/dist-packages (from deepface) (2.2.5)\n",
            "Collecting mtcnn>=0.1.0 (from deepface)\n",
            "  Downloading mtcnn-0.1.1-py3-none-any.whl (2.3 MB)\n",
            "\u001b[2K     \u001b[90m━━━━━━━━━━━━━━━━━━━━━━━━━━━━━━━━━━━━━━━━\u001b[0m \u001b[32m2.3/2.3 MB\u001b[0m \u001b[31m16.3 MB/s\u001b[0m eta \u001b[36m0:00:00\u001b[0m\n",
            "\u001b[?25hCollecting retina-face>=0.0.1 (from deepface)\n",
            "  Downloading retina_face-0.0.14-py3-none-any.whl (23 kB)\n",
            "Collecting fire>=0.4.0 (from deepface)\n",
            "  Downloading fire-0.5.0.tar.gz (88 kB)\n",
            "\u001b[2K     \u001b[90m━━━━━━━━━━━━━━━━━━━━━━━━━━━━━━━━━━━━━━━━\u001b[0m \u001b[32m88.3/88.3 kB\u001b[0m \u001b[31m10.2 MB/s\u001b[0m eta \u001b[36m0:00:00\u001b[0m\n",
            "\u001b[?25h  Preparing metadata (setup.py) ... \u001b[?25l\u001b[?25hdone\n",
            "Collecting gunicorn>=20.1.0 (from deepface)\n",
            "  Downloading gunicorn-21.2.0-py3-none-any.whl (80 kB)\n",
            "\u001b[2K     \u001b[90m━━━━━━━━━━━━━━━━━━━━━━━━━━━━━━━━━━━━━━━━\u001b[0m \u001b[32m80.2/80.2 kB\u001b[0m \u001b[31m7.2 MB/s\u001b[0m eta \u001b[36m0:00:00\u001b[0m\n",
            "\u001b[?25hRequirement already satisfied: six in /usr/local/lib/python3.10/dist-packages (from fire>=0.4.0->deepface) (1.16.0)\n",
            "Requirement already satisfied: termcolor in /usr/local/lib/python3.10/dist-packages (from fire>=0.4.0->deepface) (2.4.0)\n",
            "Requirement already satisfied: Werkzeug>=2.2.2 in /usr/local/lib/python3.10/dist-packages (from Flask>=1.1.2->deepface) (3.0.1)\n",
            "Requirement already satisfied: Jinja2>=3.0 in /usr/local/lib/python3.10/dist-packages (from Flask>=1.1.2->deepface) (3.1.3)\n",
            "Requirement already satisfied: itsdangerous>=2.0 in /usr/local/lib/python3.10/dist-packages (from Flask>=1.1.2->deepface) (2.1.2)\n",
            "Requirement already satisfied: click>=8.0 in /usr/local/lib/python3.10/dist-packages (from Flask>=1.1.2->deepface) (8.1.7)\n",
            "Requirement already satisfied: filelock in /usr/local/lib/python3.10/dist-packages (from gdown>=3.10.1->deepface) (3.13.1)\n",
            "Requirement already satisfied: requests[socks] in /usr/local/lib/python3.10/dist-packages (from gdown>=3.10.1->deepface) (2.31.0)\n",
            "Requirement already satisfied: beautifulsoup4 in /usr/local/lib/python3.10/dist-packages (from gdown>=3.10.1->deepface) (4.11.2)\n",
            "Requirement already satisfied: packaging in /usr/local/lib/python3.10/dist-packages (from gunicorn>=20.1.0->deepface) (23.2)\n",
            "Requirement already satisfied: python-dateutil>=2.8.1 in /usr/local/lib/python3.10/dist-packages (from pandas>=0.23.4->deepface) (2.8.2)\n",
            "Requirement already satisfied: pytz>=2020.1 in /usr/local/lib/python3.10/dist-packages (from pandas>=0.23.4->deepface) (2023.3.post1)\n",
            "Requirement already satisfied: absl-py>=1.0.0 in /usr/local/lib/python3.10/dist-packages (from tensorflow>=1.9.0->deepface) (1.4.0)\n",
            "Requirement already satisfied: astunparse>=1.6.0 in /usr/local/lib/python3.10/dist-packages (from tensorflow>=1.9.0->deepface) (1.6.3)\n",
            "Requirement already satisfied: flatbuffers>=23.5.26 in /usr/local/lib/python3.10/dist-packages (from tensorflow>=1.9.0->deepface) (23.5.26)\n",
            "Requirement already satisfied: gast!=0.5.0,!=0.5.1,!=0.5.2,>=0.2.1 in /usr/local/lib/python3.10/dist-packages (from tensorflow>=1.9.0->deepface) (0.5.4)\n",
            "Requirement already satisfied: google-pasta>=0.1.1 in /usr/local/lib/python3.10/dist-packages (from tensorflow>=1.9.0->deepface) (0.2.0)\n",
            "Requirement already satisfied: h5py>=2.9.0 in /usr/local/lib/python3.10/dist-packages (from tensorflow>=1.9.0->deepface) (3.9.0)\n",
            "Requirement already satisfied: libclang>=13.0.0 in /usr/local/lib/python3.10/dist-packages (from tensorflow>=1.9.0->deepface) (16.0.6)\n",
            "Requirement already satisfied: ml-dtypes~=0.2.0 in /usr/local/lib/python3.10/dist-packages (from tensorflow>=1.9.0->deepface) (0.2.0)\n",
            "Requirement already satisfied: opt-einsum>=2.3.2 in /usr/local/lib/python3.10/dist-packages (from tensorflow>=1.9.0->deepface) (3.3.0)\n",
            "Requirement already satisfied: protobuf!=4.21.0,!=4.21.1,!=4.21.2,!=4.21.3,!=4.21.4,!=4.21.5,<5.0.0dev,>=3.20.3 in /usr/local/lib/python3.10/dist-packages (from tensorflow>=1.9.0->deepface) (3.20.3)\n",
            "Requirement already satisfied: setuptools in /usr/local/lib/python3.10/dist-packages (from tensorflow>=1.9.0->deepface) (67.7.2)\n",
            "Requirement already satisfied: typing-extensions>=3.6.6 in /usr/local/lib/python3.10/dist-packages (from tensorflow>=1.9.0->deepface) (4.5.0)\n",
            "Requirement already satisfied: wrapt<1.15,>=1.11.0 in /usr/local/lib/python3.10/dist-packages (from tensorflow>=1.9.0->deepface) (1.14.1)\n",
            "Requirement already satisfied: tensorflow-io-gcs-filesystem>=0.23.1 in /usr/local/lib/python3.10/dist-packages (from tensorflow>=1.9.0->deepface) (0.35.0)\n",
            "Requirement already satisfied: grpcio<2.0,>=1.24.3 in /usr/local/lib/python3.10/dist-packages (from tensorflow>=1.9.0->deepface) (1.60.0)\n",
            "Requirement already satisfied: tensorboard<2.16,>=2.15 in /usr/local/lib/python3.10/dist-packages (from tensorflow>=1.9.0->deepface) (2.15.1)\n",
            "Requirement already satisfied: tensorflow-estimator<2.16,>=2.15.0 in /usr/local/lib/python3.10/dist-packages (from tensorflow>=1.9.0->deepface) (2.15.0)\n",
            "Requirement already satisfied: wheel<1.0,>=0.23.0 in /usr/local/lib/python3.10/dist-packages (from astunparse>=1.6.0->tensorflow>=1.9.0->deepface) (0.42.0)\n",
            "Requirement already satisfied: MarkupSafe>=2.0 in /usr/local/lib/python3.10/dist-packages (from Jinja2>=3.0->Flask>=1.1.2->deepface) (2.1.4)\n",
            "Requirement already satisfied: google-auth<3,>=1.6.3 in /usr/local/lib/python3.10/dist-packages (from tensorboard<2.16,>=2.15->tensorflow>=1.9.0->deepface) (2.17.3)\n",
            "Requirement already satisfied: google-auth-oauthlib<2,>=0.5 in /usr/local/lib/python3.10/dist-packages (from tensorboard<2.16,>=2.15->tensorflow>=1.9.0->deepface) (1.2.0)\n",
            "Requirement already satisfied: markdown>=2.6.8 in /usr/local/lib/python3.10/dist-packages (from tensorboard<2.16,>=2.15->tensorflow>=1.9.0->deepface) (3.5.2)\n",
            "Requirement already satisfied: tensorboard-data-server<0.8.0,>=0.7.0 in /usr/local/lib/python3.10/dist-packages (from tensorboard<2.16,>=2.15->tensorflow>=1.9.0->deepface) (0.7.2)\n",
            "Requirement already satisfied: soupsieve>1.2 in /usr/local/lib/python3.10/dist-packages (from beautifulsoup4->gdown>=3.10.1->deepface) (2.5)\n",
            "Requirement already satisfied: charset-normalizer<4,>=2 in /usr/local/lib/python3.10/dist-packages (from requests[socks]->gdown>=3.10.1->deepface) (3.3.2)\n",
            "Requirement already satisfied: idna<4,>=2.5 in /usr/local/lib/python3.10/dist-packages (from requests[socks]->gdown>=3.10.1->deepface) (3.6)\n",
            "Requirement already satisfied: urllib3<3,>=1.21.1 in /usr/local/lib/python3.10/dist-packages (from requests[socks]->gdown>=3.10.1->deepface) (2.0.7)\n",
            "Requirement already satisfied: certifi>=2017.4.17 in /usr/local/lib/python3.10/dist-packages (from requests[socks]->gdown>=3.10.1->deepface) (2023.11.17)\n",
            "Requirement already satisfied: PySocks!=1.5.7,>=1.5.6 in /usr/local/lib/python3.10/dist-packages (from requests[socks]->gdown>=3.10.1->deepface) (1.7.1)\n",
            "Requirement already satisfied: cachetools<6.0,>=2.0.0 in /usr/local/lib/python3.10/dist-packages (from google-auth<3,>=1.6.3->tensorboard<2.16,>=2.15->tensorflow>=1.9.0->deepface) (5.3.2)\n",
            "Requirement already satisfied: pyasn1-modules>=0.2.1 in /usr/local/lib/python3.10/dist-packages (from google-auth<3,>=1.6.3->tensorboard<2.16,>=2.15->tensorflow>=1.9.0->deepface) (0.3.0)\n",
            "Requirement already satisfied: rsa<5,>=3.1.4 in /usr/local/lib/python3.10/dist-packages (from google-auth<3,>=1.6.3->tensorboard<2.16,>=2.15->tensorflow>=1.9.0->deepface) (4.9)\n",
            "Requirement already satisfied: requests-oauthlib>=0.7.0 in /usr/local/lib/python3.10/dist-packages (from google-auth-oauthlib<2,>=0.5->tensorboard<2.16,>=2.15->tensorflow>=1.9.0->deepface) (1.3.1)\n",
            "Requirement already satisfied: pyasn1<0.6.0,>=0.4.6 in /usr/local/lib/python3.10/dist-packages (from pyasn1-modules>=0.2.1->google-auth<3,>=1.6.3->tensorboard<2.16,>=2.15->tensorflow>=1.9.0->deepface) (0.5.1)\n",
            "Requirement already satisfied: oauthlib>=3.0.0 in /usr/local/lib/python3.10/dist-packages (from requests-oauthlib>=0.7.0->google-auth-oauthlib<2,>=0.5->tensorboard<2.16,>=2.15->tensorflow>=1.9.0->deepface) (3.2.2)\n",
            "Building wheels for collected packages: fire\n",
            "  Building wheel for fire (setup.py) ... \u001b[?25l\u001b[?25hdone\n",
            "  Created wheel for fire: filename=fire-0.5.0-py2.py3-none-any.whl size=116934 sha256=fb17fe9f4300dca8b6acfe1e76e462121e1151a1df042581d099d9c7ebb6e8cb\n",
            "  Stored in directory: /root/.cache/pip/wheels/90/d4/f7/9404e5db0116bd4d43e5666eaa3e70ab53723e1e3ea40c9a95\n",
            "Successfully built fire\n",
            "Installing collected packages: gunicorn, fire, mtcnn, retina-face, deepface\n",
            "Successfully installed deepface-0.0.83 fire-0.5.0 gunicorn-21.2.0 mtcnn-0.1.1 retina-face-0.0.14\n"
          ]
        }
      ],
      "source": [
        "#Install DeepFace Library\n",
        "!pip install deepface"
      ]
    },
    {
      "cell_type": "code",
      "source": [
        "from deepface import DeepFace\n",
        "import matplotlib.pyplot as plt\n",
        "import cv2\n",
        "\n"
      ],
      "metadata": {
        "id": "zQETAda29q5K"
      },
      "execution_count": null,
      "outputs": []
    },
    {
      "cell_type": "code",
      "source": [
        "result = DeepFace.verify(\"/content/main/narendra modi.jpeg\",\"/content/main/narendra modi 2.jpeg\")"
      ],
      "metadata": {
        "colab": {
          "base_uri": "https://localhost:8080/"
        },
        "id": "vh9pKWbZ_UvY",
        "outputId": "d2d0b4e8-c745-46ae-8bf1-900ebdbdf4bf"
      },
      "execution_count": null,
      "outputs": [
        {
          "output_type": "stream",
          "name": "stdout",
          "text": [
            "24-01-29 07:01:04 - vgg_face_weights.h5 will be downloaded...\n"
          ]
        },
        {
          "output_type": "stream",
          "name": "stderr",
          "text": [
            "Downloading...\n",
            "From: https://github.com/serengil/deepface_models/releases/download/v1.0/vgg_face_weights.h5\n",
            "To: /root/.deepface/weights/vgg_face_weights.h5\n",
            "100%|██████████| 580M/580M [00:08<00:00, 70.5MB/s]\n"
          ]
        }
      ]
    },
    {
      "cell_type": "code",
      "source": [
        "result"
      ],
      "metadata": {
        "colab": {
          "base_uri": "https://localhost:8080/"
        },
        "id": "Hlgoj2JtBgAI",
        "outputId": "19ac9211-2d07-4eeb-d894-bf5579f55e54"
      },
      "execution_count": null,
      "outputs": [
        {
          "output_type": "execute_result",
          "data": {
            "text/plain": [
              "{'verified': True,\n",
              " 'distance': 0.31995522856849135,\n",
              " 'threshold': 0.68,\n",
              " 'model': 'VGG-Face',\n",
              " 'detector_backend': 'opencv',\n",
              " 'similarity_metric': 'cosine',\n",
              " 'facial_areas': {'img1': {'x': 56, 'y': 34, 'w': 109, 'h': 109},\n",
              "  'img2': {'x': 69, 'y': 37, 'w': 86, 'h': 86}},\n",
              " 'time': 15.97}"
            ]
          },
          "metadata": {},
          "execution_count": 7
        }
      ]
    },
    {
      "cell_type": "code",
      "source": [
        "df = DeepFace.find(img_path = \"/content/main/madhura2 copy.jpg\", db_path = \"/content/main\")\n",
        "print(df)\n"
      ],
      "metadata": {
        "colab": {
          "base_uri": "https://localhost:8080/"
        },
        "id": "ZuE-VsMeCdkY",
        "outputId": "44b95e13-4691-4326-f8f9-26e6ba725c05"
      },
      "execution_count": null,
      "outputs": [
        {
          "output_type": "stream",
          "name": "stderr",
          "text": [
            "Finding representations: 100%|██████████| 7/7 [00:06<00:00,  1.01it/s]\n"
          ]
        },
        {
          "output_type": "stream",
          "name": "stdout",
          "text": [
            "24-01-29 07:06:39 - Representations stored in /content/main/representations_vgg_face.pkl file.\n",
            "24-01-29 07:06:40 - find function lasts 7.960620880126953 seconds\n",
            "[                          identity  target_x  target_y  target_w  target_h  \\\n",
            "0  /content/main/madhura2 copy.jpg       193       188        90        90   \n",
            "1       /content/main/madhura2.jpg       345       385        85        85   \n",
            "2       /content/main/madhura3.jpg       344       421        99        99   \n",
            "3       /content/main/madhura1.jpg       374       426       163       163   \n",
            "\n",
            "   source_x  source_y  source_w  source_h  threshold  distance  \n",
            "0       193       188        90        90       0.68  0.000000  \n",
            "1       193       188        90        90       0.68  0.047933  \n",
            "2       193       188        90        90       0.68  0.425616  \n",
            "3       193       188        90        90       0.68  0.624392  ]\n"
          ]
        }
      ]
    },
    {
      "cell_type": "code",
      "source": [
        "vggface_result = DeepFace.verify(\"/content/main/narendra modi.jpeg\",\"/content/main/narendra modi 2.jpeg\") #default is VGG-Face\n",
        "#vggface_result = DeepFace.verify(\"img1.jpg\", \"img2.jpg\", model_name = \"VGG-Face\") #identical to the line above\n",
        "facenet_result = DeepFace.verify(\"/content/main/narendra modi.jpeg\",\"/content/main/narendra modi 2.jpeg\", model_name = \"Facenet\")\n",
        "openface_result = DeepFace.verify(\"/content/main/narendra modi.jpeg\",\"/content/main/narendra modi 2.jpeg\", model_name = \"OpenFace\")\n",
        "deepface_result = DeepFace.verify(\"/content/main/narendra modi.jpeg\",\"/content/main/narendra modi 2.jpeg\", model_name = \"DeepFace\")"
      ],
      "metadata": {
        "colab": {
          "base_uri": "https://localhost:8080/"
        },
        "id": "zRM7-cRODEBt",
        "outputId": "55530dde-b686-48cb-f58c-81aec1c04ed2"
      },
      "execution_count": null,
      "outputs": [
        {
          "output_type": "stream",
          "name": "stdout",
          "text": [
            "24-01-29 07:09:35 - facenet_weights.h5 will be downloaded...\n"
          ]
        },
        {
          "output_type": "stream",
          "name": "stderr",
          "text": [
            "Downloading...\n",
            "From: https://github.com/serengil/deepface_models/releases/download/v1.0/facenet_weights.h5\n",
            "To: /root/.deepface/weights/facenet_weights.h5\n",
            "100%|██████████| 92.2M/92.2M [00:01<00:00, 64.1MB/s]\n"
          ]
        },
        {
          "output_type": "stream",
          "name": "stdout",
          "text": [
            "24-01-29 07:09:39 - openface_weights.h5 will be downloaded...\n"
          ]
        },
        {
          "output_type": "stream",
          "name": "stderr",
          "text": [
            "Downloading...\n",
            "From: https://github.com/serengil/deepface_models/releases/download/v1.0/openface_weights.h5\n",
            "To: /root/.deepface/weights/openface_weights.h5\n",
            "100%|██████████| 15.3M/15.3M [00:00<00:00, 40.5MB/s]\n"
          ]
        },
        {
          "output_type": "stream",
          "name": "stdout",
          "text": [
            "24-01-29 07:09:53 - VGGFace2_DeepFace_weights_val-0.9034.h5 will be downloaded...\n"
          ]
        },
        {
          "output_type": "stream",
          "name": "stderr",
          "text": [
            "Downloading...\n",
            "From: https://github.com/swghosh/DeepFace/releases/download/weights-vggface2-2d-aligned/VGGFace2_DeepFace_weights_val-0.9034.h5.zip\n",
            "To: /root/.deepface/weights/VGGFace2_DeepFace_weights_val-0.9034.h5.zip\n",
            "100%|██████████| 511M/511M [00:06<00:00, 78.4MB/s]\n"
          ]
        }
      ]
    },
    {
      "cell_type": "code",
      "source": [
        "from deepface import DeepFace\n",
        "demography = DeepFace.analyze(\"/content/main/narendra modi.jpeg\") #passing nothing as 2nd argument will find everything\n",
        "#demography = DeepFace.analyze(\"img4.jpg\", ['age', 'gender', 'race', 'emotion']) #identical to the line above\n",
        "#demographies = DeepFace.analyze([\"img1.jpg\", \"img2.jpg\", \"img3.jpg\"]) #analyzing multiple faces same time\n",
        "demography\n",
        "# print(\"Age: \", demography[\"age\"])\n",
        "# print(\"Gender: \", demography[\"gender\"])\n",
        "# print(\"Emotion: \", demography[\"dominant_emotion\"])\n",
        "# print(\"Race: \", demography[\"dominant_race\"])"
      ],
      "metadata": {
        "colab": {
          "base_uri": "https://localhost:8080/"
        },
        "id": "IP3SfmNDEEiQ",
        "outputId": "65a8d3de-4559-4707-fe43-5c11e83942b0"
      },
      "execution_count": null,
      "outputs": [
        {
          "output_type": "stream",
          "name": "stderr",
          "text": [
            "Action: race: 100%|██████████| 4/4 [00:01<00:00,  2.52it/s]\n"
          ]
        },
        {
          "output_type": "execute_result",
          "data": {
            "text/plain": [
              "[{'emotion': {'angry': 10.901227593421936,\n",
              "   'disgust': 0.0004773105956701329,\n",
              "   'fear': 38.94108235836029,\n",
              "   'happy': 0.08154363022185862,\n",
              "   'sad': 38.8615608215332,\n",
              "   'surprise': 0.07350434898398817,\n",
              "   'neutral': 11.140603572130203},\n",
              "  'dominant_emotion': 'fear',\n",
              "  'region': {'x': 56, 'y': 34, 'w': 109, 'h': 109},\n",
              "  'face_confidence': 6.723793062323239,\n",
              "  'age': 52,\n",
              "  'gender': {'Woman': 0.29825412202626467, 'Man': 99.7017502784729},\n",
              "  'dominant_gender': 'Man',\n",
              "  'race': {'asian': 1.3198299333453178,\n",
              "   'indian': 78.46570611000061,\n",
              "   'black': 0.4829747136682272,\n",
              "   'white': 1.4663913287222385,\n",
              "   'middle eastern': 16.93650484085083,\n",
              "   'latino hispanic': 1.3285895809531212},\n",
              "  'dominant_race': 'indian'}]"
            ]
          },
          "metadata": {},
          "execution_count": 19
        }
      ]
    },
    {
      "cell_type": "code",
      "source": [
        "demography = DeepFace.analyze(\"/content/main/narendra modi.jpeg\", ['age', 'gender', 'race', 'emotion'])\n",
        "demography"
      ],
      "metadata": {
        "colab": {
          "base_uri": "https://localhost:8080/"
        },
        "id": "bup4Q4VnGb2B",
        "outputId": "c7b6e794-1c43-4ac7-82b3-55ea6a8f631f"
      },
      "execution_count": null,
      "outputs": [
        {
          "output_type": "stream",
          "name": "stderr",
          "text": [
            "Action: emotion: 100%|██████████| 4/4 [00:01<00:00,  2.55it/s]\n"
          ]
        },
        {
          "output_type": "execute_result",
          "data": {
            "text/plain": [
              "[{'age': 52,\n",
              "  'region': {'x': 56, 'y': 34, 'w': 109, 'h': 109},\n",
              "  'face_confidence': 6.723793062323239,\n",
              "  'gender': {'Woman': 0.29825412202626467, 'Man': 99.7017502784729},\n",
              "  'dominant_gender': 'Man',\n",
              "  'race': {'asian': 1.3198299333453178,\n",
              "   'indian': 78.46570611000061,\n",
              "   'black': 0.4829747136682272,\n",
              "   'white': 1.4663913287222385,\n",
              "   'middle eastern': 16.93650484085083,\n",
              "   'latino hispanic': 1.3285895809531212},\n",
              "  'dominant_race': 'indian',\n",
              "  'emotion': {'angry': 10.901227593421936,\n",
              "   'disgust': 0.0004773105956701329,\n",
              "   'fear': 38.94108235836029,\n",
              "   'happy': 0.08154363022185862,\n",
              "   'sad': 38.8615608215332,\n",
              "   'surprise': 0.07350434898398817,\n",
              "   'neutral': 11.140603572130203},\n",
              "  'dominant_emotion': 'fear'}]"
            ]
          },
          "metadata": {},
          "execution_count": 20
        }
      ]
    },
    {
      "cell_type": "code",
      "source": [
        "DeepFace.stream('/content/main')"
      ],
      "metadata": {
        "colab": {
          "base_uri": "https://localhost:8080/"
        },
        "id": "3T3DqTNeNbP5",
        "outputId": "b078fbb7-e8f8-4ce8-87d8-12a2b4df642d"
      },
      "execution_count": null,
      "outputs": [
        {
          "output_type": "stream",
          "name": "stdout",
          "text": [
            "24-01-29 07:54:04 - facial recognition model VGG-Face is just built\n",
            "24-01-29 07:54:04 - Age model is just built\n",
            "24-01-29 07:54:04 - Gender model is just built\n",
            "24-01-29 07:54:04 - Emotion model is just built\n",
            "24-01-29 07:54:04 - There are 9 representations found in representations_vgg_face.pkl\n",
            "24-01-29 07:54:04 - find function lasts 0.5768435001373291 seconds\n"
          ]
        }
      ]
    }
  ]
}